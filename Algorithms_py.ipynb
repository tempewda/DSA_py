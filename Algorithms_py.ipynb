{
  "nbformat": 4,
  "nbformat_minor": 0,
  "metadata": {
    "colab": {
      "provenance": [],
      "toc_visible": true,
      "authorship_tag": "ABX9TyNqDOAO4mLTMiXbpPF+kjC6",
      "include_colab_link": true
    },
    "kernelspec": {
      "name": "python3",
      "display_name": "Python 3"
    },
    "language_info": {
      "name": "python"
    }
  },
  "cells": [
    {
      "cell_type": "markdown",
      "metadata": {
        "id": "view-in-github",
        "colab_type": "text"
      },
      "source": [
        "<a href=\"https://colab.research.google.com/github/ArrowA1/DSA_py/blob/master/Algorithms_py.ipynb\" target=\"_parent\"><img src=\"https://colab.research.google.com/assets/colab-badge.svg\" alt=\"Open In Colab\"/></a>"
      ]
    },
    {
      "cell_type": "markdown",
      "source": [
        "# Algorithms using Python"
      ],
      "metadata": {
        "id": "NUIx1YNN0YMO"
      }
    },
    {
      "cell_type": "markdown",
      "source": [
        ">## Recursion"
      ],
      "metadata": {
        "id": "FlakduJhbGX3"
      }
    },
    {
      "cell_type": "markdown",
      "source": [
        ">>### Factorial \n",
        ">> n! = n * (n-1) * (n-2) * ... * 1"
      ],
      "metadata": {
        "id": "gGgRyC-6bQfx"
      }
    },
    {
      "cell_type": "code",
      "source": [
        "def fact(num):\n",
        "  if num < 2:\n",
        "    return 1\n",
        "\n",
        "  return num * fact(num - 1)\n",
        "\n",
        "\n",
        "print(fact(5))"
      ],
      "metadata": {
        "colab": {
          "base_uri": "https://localhost:8080/"
        },
        "id": "KtDmzPnKxi5o",
        "outputId": "55101dd3-2fe0-4f96-97da-37e6be3801b8"
      },
      "execution_count": null,
      "outputs": [
        {
          "output_type": "stream",
          "name": "stdout",
          "text": [
            "120\n"
          ]
        }
      ]
    }
  ]
}